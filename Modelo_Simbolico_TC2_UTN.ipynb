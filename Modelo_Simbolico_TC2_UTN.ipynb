{
 "cells": [
  {
   "cell_type": "code",
   "execution_count": 6,
   "id": "24273731-69b6-4356-b5f5-bd5b05ed92e9",
   "metadata": {},
   "outputs": [],
   "source": [
    "# Inicialización e importación de módulos\n",
    "\n",
    "# Módulos para Jupyter\n",
    "import warnings\n",
    "warnings.filterwarnings('ignore')\n",
    "\n",
    "# Módulos externos\n",
    "import matplotlib as mpl\n",
    "import matplotlib.pyplot as plt\n",
    "import numpy as np\n",
    "from scipy.signal import TransferFunction\n",
    "\n",
    "fig_sz_x = 8\n",
    "fig_sz_y = 6\n",
    "fig_dpi = 150 # dpi\n",
    "\n",
    "mpl.rcParams['figure.figsize'] = (fig_sz_x, fig_sz_y)\n",
    "mpl.rcParams['figure.dpi'] = fig_dpi\n",
    "\n",
    "plt.figure(1)\n",
    "plt.plot(np.random.rand(10))\n",
    "plt.close(1)\n",
    "\n",
    "# módulo de análisis simbólico\n",
    "import sympy as sp\n",
    "# variable de Laplace\n",
    "from sympy.abc import s\n",
    "from IPython.display import display, Math, Markdown\n",
    "\n",
    "# Ahora importamos las funciones de PyTC2\n",
    "from pytc2.general import simplify_n_monic\n",
    "from pytc2.sistemas_lineales import  parametrize_sos\n",
    "from pytc2.general import print_subtitle"
   ]
  },
  {
   "cell_type": "code",
   "execution_count": 5,
   "id": "86838f18-1eba-46e1-ba79-9c2be7b525c7",
   "metadata": {},
   "outputs": [
    {
     "data": {
      "text/markdown": [
       "#### Transferencia obtenida"
      ],
      "text/plain": [
       "<IPython.core.display.Markdown object>"
      ]
     },
     "metadata": {},
     "output_type": "display_data"
    },
    {
     "data": {
      "text/latex": [
       "$\\displaystyle  \\frac{V_o}{V_i} = 1 \\frac{G_{1} G_{2}}{C_{1} C_{2} \\left(s^{2} + \\frac{s \\left(G_{1} + G_{2}\\right)}{C_{2}} + \\frac{G_{1} G_{2}}{C_{1} C_{2}}\\right)}$"
      ],
      "text/plain": [
       "<IPython.core.display.Math object>"
      ]
     },
     "metadata": {},
     "output_type": "display_data"
    },
    {
     "data": {
      "text/markdown": [
       "#### Parámetros"
      ],
      "text/plain": [
       "<IPython.core.display.Markdown object>"
      ]
     },
     "metadata": {},
     "output_type": "display_data"
    },
    {
     "data": {
      "text/latex": [
       "$\\displaystyle  k = 1$"
      ],
      "text/plain": [
       "<IPython.core.display.Math object>"
      ]
     },
     "metadata": {},
     "output_type": "display_data"
    },
    {
     "data": {
      "text/latex": [
       "$\\displaystyle  \\omega_0 = \\sqrt{\\frac{G_{1} G_{2}}{C_{1} C_{2}}}$"
      ],
      "text/plain": [
       "<IPython.core.display.Math object>"
      ]
     },
     "metadata": {},
     "output_type": "display_data"
    },
    {
     "data": {
      "text/latex": [
       "$\\displaystyle  Q = \\frac{C_{2} \\sqrt{\\frac{G_{1} G_{2}}{C_{1} C_{2}}}}{G_{1} + G_{2}}$"
      ],
      "text/plain": [
       "<IPython.core.display.Math object>"
      ]
     },
     "metadata": {},
     "output_type": "display_data"
    }
   ],
   "source": [
    "\n",
    "# variables simbólicas\n",
    "s = sp.symbols('s', complex=True)\n",
    "V1, Vi, Vo = sp.symbols(\"V1, Vi, Vo\")\n",
    "G1, G2, C1, C2, As, wt = sp.symbols(\"G1, G2, C1, C2, As, wt\")\n",
    "\n",
    "# Sistemas de ecuaciones del modelo ideal, negativamente realimentado\n",
    "aa = sp.solve([ \n",
    "                Vi*G1 - V1 * (G1 + s * C2 + G2) + Vo * (s * C2 +G2),    #define las ecuaciones\n",
    "                V1 * G2 - Vo * (G2 + s * C1)\n",
    "                ], \n",
    "                [Vo, Vi, V1])                                   #define las incognitas\n",
    "\n",
    "T1 = aa[Vo]/aa[Vi]   #Calcula la transferencia T1 dividiendo la solución de Vo (salida) entre la solución de Vi (entrada).\n",
    "\n",
    "num, den = sp.fraction(sp.simplify(sp.expand(T1)))   #Utiliza las funciones fraction, simplify y expand de sympy para obtener el numerador y el denominador de T1 de manera simplificada.\n",
    "\n",
    "num = sp.Poly(num,s) #Crea un objeto Poly de sympy para el numerador utilizando la función Poly. \n",
    "                     #Esto permite realizar operaciones algebraicas con el numerador.\n",
    "den = sp.Poly(den,s)\n",
    "\n",
    "num1, den1, w_on, Q_n, w_od, Q_d, k1 = parametrize_sos(num, den)\n",
    "\n",
    "print_subtitle('Transferencia obtenida')\n",
    "\n",
    "display(Math( r' \\frac{V_o}{V_i} = ' + sp.latex(sp.Mul(k1,num1/den1, evaluate=False)) ))\n",
    "\n",
    "print_subtitle('Parámetros')\n",
    "\n",
    "display(Math( r' k = ' + sp.latex(k1) ))\n",
    "\n",
    "display(Math( r' \\omega_0 = ' + sp.latex(w_od) ))\n",
    "\n",
    "display(Math( r' Q = ' + sp.latex(Q_d) ))"
   ]
  },
  {
   "cell_type": "code",
   "execution_count": null,
   "id": "7576a257-fa59-40da-8143-ee8532530ad8",
   "metadata": {},
   "outputs": [],
   "source": []
  }
 ],
 "metadata": {
  "kernelspec": {
   "display_name": "Python 3 (ipykernel)",
   "language": "python",
   "name": "python3"
  },
  "language_info": {
   "codemirror_mode": {
    "name": "ipython",
    "version": 3
   },
   "file_extension": ".py",
   "mimetype": "text/x-python",
   "name": "python",
   "nbconvert_exporter": "python",
   "pygments_lexer": "ipython3",
   "version": "3.11.7"
  }
 },
 "nbformat": 4,
 "nbformat_minor": 5
}
