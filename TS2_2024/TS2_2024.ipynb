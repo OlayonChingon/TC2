{
 "cells": [
  {
   "cell_type": "markdown",
   "id": "1b2baceb-b081-4886-b27e-3eeb08566299",
   "metadata": {},
   "source": [
    "<div class=\"alert alert-block alert-success\"><b> Analis de Transferencia por metodo de nodos</b> </div>"
   ]
  },
  {
   "cell_type": "markdown",
   "id": "aef94951-c877-49dd-8db0-48181edcbe4d",
   "metadata": {},
   "source": [
    "![TS2_nodo](TS2_nodos.png)"
   ]
  },
  {
   "cell_type": "markdown",
   "id": "3648faf5-29c3-4229-9a1b-e075b3eb2d58",
   "metadata": {},
   "source": [
    "\n",
    "A)  $ V_i.G_1 = -V_1.sC - V_1.G_2 - V_0.G_3 $\n",
    "\n",
    "B)  $ V_1.G_3 = -V_2.sC$\n",
    "\n",
    "C)  $ V_o = -V_2$\n",
    "\n",
    "C) en B)  $ V_1 = V_o.\\frac{sC}{G_3}$\n",
    "\n",
    "y esta ultima en A   $ V_i.G_1 = "
   ]
  },
  {
   "cell_type": "code",
   "execution_count": null,
   "id": "fe136ed4-0f34-4ac4-9c94-899a6ae282ae",
   "metadata": {},
   "outputs": [],
   "source": []
  }
 ],
 "metadata": {
  "kernelspec": {
   "display_name": "Python 3 (ipykernel)",
   "language": "python",
   "name": "python3"
  },
  "language_info": {
   "codemirror_mode": {
    "name": "ipython",
    "version": 3
   },
   "file_extension": ".py",
   "mimetype": "text/x-python",
   "name": "python",
   "nbconvert_exporter": "python",
   "pygments_lexer": "ipython3",
   "version": "3.11.7"
  }
 },
 "nbformat": 4,
 "nbformat_minor": 5
}
